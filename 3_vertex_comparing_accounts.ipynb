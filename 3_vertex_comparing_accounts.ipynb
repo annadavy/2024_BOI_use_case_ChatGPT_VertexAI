{
 "cells": [
  {
   "cell_type": "code",
   "execution_count": 2,
   "id": "6ce18ac5-13bc-4b4f-9979-de4b3b52eab2",
   "metadata": {
    "tags": []
   },
   "outputs": [],
   "source": [
    "import urllib\n",
    "import warnings\n",
    "from pathlib import Path as p\n",
    "\n",
    "from langchain import PromptTemplate\n",
    "from langchain.chains.question_answering import load_qa_chain\n",
    "from langchain.document_loaders import PyPDFLoader\n",
    "#from langchain.embeddings import VertexAIEmbeddings\n",
    "from langchain.llms import VertexAI\n",
    "\n",
    "warnings.filterwarnings(\"ignore\")"
   ]
  },
  {
   "cell_type": "code",
   "execution_count": 3,
   "id": "be6e4edb-d4fd-4317-a921-5f4efca6f3ad",
   "metadata": {
    "tags": []
   },
   "outputs": [],
   "source": [
    "data_folder = p.cwd() / \"data\"\n",
    "p(data_folder).mkdir(parents=True, exist_ok=True)"
   ]
  },
  {
   "cell_type": "code",
   "execution_count": 6,
   "id": "855068c0-62ef-4f19-a837-ddf5b6af3a66",
   "metadata": {
    "tags": []
   },
   "outputs": [],
   "source": [
    "#Reading saving accounts related pdfs from bankofireland.com website\n",
    "\n",
    "main_url=\"https://personalbanking.bankofireland.com/app/uploads/\"\n",
    "\n",
    "docs=[\"Customer-Info-Sheet-SuperSaver-Account-1.pdf\",\\\n",
    "      \"Customer-Infomation-Sheet-Advantage-Fixed-Term-Deposit.pdf\",\\\n",
    "      \"2570642-GoalSaver-Customer-Information-Sheet-V2-final.pdf\"]"
   ]
  },
  {
   "cell_type": "code",
   "execution_count": 108,
   "id": "62937a36-d917-4cc1-b50d-6bf83a356829",
   "metadata": {
    "tags": []
   },
   "outputs": [],
   "source": [
    "def retrieve_docs(main_url,docs):\n",
    "    \"\"\"\n",
    "    Retrieves documents from specified URLs and extracts their first page content.\n",
    "\n",
    "    Parameters:\n",
    "    - main_url (str): The base URL to which the document paths will be appended.\n",
    "    - docs (list of str): A list of document paths to be appended to the main URL for retrieval.\n",
    "\n",
    "    Steps:\n",
    "    1. Iterates over the document paths in 'docs'.\n",
    "    2. Constructs the full URL for each document and retrieves it as a PDF.\n",
    "    3. Loads each PDF and extracts the content of the first page.\n",
    "    4. Stores the first page content of each document in a list.\n",
    "    5. Concatenates the contents of all first pages into a single string.\n",
    "\n",
    "    Returns:\n",
    "    tuple: A tuple containing two elements:\n",
    "        - pages (list): A list of objects representing the first page of each retrieved document.\n",
    "        - context (str): A string representing the concatenated contents of the first pages of all documents.\n",
    "    \"\"\"\n",
    "    \n",
    "    pages=[]\n",
    "    for doc in docs:\n",
    "        pdf_url = main_url + doc\n",
    "        pdf_file = str(p(data_folder, doc))\n",
    "\n",
    "        urllib.request.urlretrieve(pdf_url, pdf_file)\n",
    "        pdf_loader = PyPDFLoader(pdf_file)\n",
    "        page = pdf_loader.load_and_split()\n",
    "        pages.append(page[0])\n",
    "        \n",
    "    \n",
    "    context = \" \".join(str(p.page_content) for p in pages)\n",
    "    \n",
    "    return pages,context\n"
   ]
  },
  {
   "cell_type": "code",
   "execution_count": 109,
   "id": "3e26ffc8-ac69-4c8c-a313-a4a359a129bb",
   "metadata": {
    "tags": []
   },
   "outputs": [],
   "source": [
    "pages,context=retrieve_docs(main_url,docs)"
   ]
  },
  {
   "cell_type": "code",
   "execution_count": 110,
   "id": "2deca90e-9d26-41df-9a47-f47a3fe13d3e",
   "metadata": {
    "tags": []
   },
   "outputs": [
    {
     "data": {
      "text/plain": [
       "[Document(page_content='Minimum monthly amount €5\\nMaximum monthly amount €2,500\\nAccess You have instant access to your money.\\nAdditional lodgements No\\nWithdrawal arrangementsYou can withdraw money in any Bank of Ireland branch (you will need to bring \\nphoto ID with you), by 365 online or via phone banking when registered for \\nthese services.\\nInterest rate type Fixed – The interest rate stays the same for the 12 months.\\nInterest paymentInterest is paid at the end of the 12 month fixed rate period. See our Customer \\nDeposits Rate Sheet on bankofireland.com  for current rates.\\nSole or joint accounts Sole and joint accounts permitted.\\nHow to applyYou can open this account online through the Bank of Ireland website via the \\nmobile app or in any Bank of Ireland branch.\\nTo open the account online, visit the savings page on bankofireland.com  and \\ngo to the SuperSaver product page. Click the button “Apply now”.\\nOther important informationTo open an account, you must have a personal current account and be aged \\n16 or over.Customer  \\nInformation Sheet\\nProduct Information\\nAccount details are correct as at June 2023. Information is subject to change. Latest information is available at  bankofireland.com\\nAt Bank of Ireland we offer a broad range of deposit options for our customers.\\nTalk to one of our Savings Advisers today for more information.\\nTerms and Conditions apply, these are available on bankofIreland.com\\nBank of Ireland is regulated by the Central Bank of Ireland.0818 365 254Promised yourself you’d be a better saver? How about being a SuperSaver ? Avail of our best rate on regular \\nsavings with a fixed rate for 12 months, along with a range of extra benefits. Save smart and feel super\\nwith our SuperSaver  account.SuperSaver Account', metadata={'source': '/home/jupyter/data/Customer-Info-Sheet-SuperSaver-Account-1.pdf', 'page': 0}),\n",
       " Document(page_content='Term options 6 Month, 12 Month and 24 Month.\\nMinimum lodgement €5,000\\nMaximum lodgementPlease refer to the Customer Deposits Rate Sheet for the current maximum \\nlodgement amount.\\nAccessPlease refer to the Customer Deposits Rate Sheet for the list of products and \\naccess levels currently on offer.\\nAdditional lodgements No\\nInterest rate type Fixed – The interest rate stays the same for the term of the account.\\nInterest paymentInterest is paid at maturity of the account. See our Customer Deposits \\nRate Sheet on bankofireland.com for current rates.\\nHow to applyIf you are a consumer you can open an Advantage Fixed Term Deposit account \\nonline through the Bank of Ireland Group Website or in any Bank of Ireland \\nbranch.\\nBusiness customers can open an Advantage Fixed Term Deposit account in any \\nBank of Ireland branch.\\nTo open the account online, visit the savings page on bankofireland.com  and \\ngo to the Advantage Fixed Term Deposit product page. Click the button “Apply \\nnow”.\\nOther important informationWe will contact you before the end of the term to advise you of your maturity \\ndate and invite you to discuss your savings options with one of our Advisers. \\nAt the end of the term, if we have not received instructions from you, the full \\nbalance in the account will be re-deposited in our Variable Rate Call account at \\nthe prevailing interest rate.Customer  \\nInformation Sheet\\nProduct Information\\nAccount details are correct as at October 2023. Information is subject to change. Latest information is available at  bankofireland.com\\nAt Bank of Ireland we offer a broad range of deposit options for our customers.\\nTalk to one of our Savings Adviser’s today for more information.\\nTerms and Conditions apply, these are available on bankofIreland.com\\nBank of Ireland is regulated by the Central Bank of Ireland.0818 365 254If you have a lump sum that you want to put away safely for the future while earning a fixed return on it,  \\nour Advantage Deposit Account could be the perfect home for your money.Advantage Fixed Term Account', metadata={'source': '/home/jupyter/data/Customer-Infomation-Sheet-Advantage-Fixed-Term-Deposit.pdf', 'page': 0}),\n",
       " Document(page_content='Minimum monthly amount €20\\nMaximum monthly amount €2,000\\nAccess You have instant access to your money.\\nAdditional lodgements No\\nWithdrawal arrangementsYou can withdraw money in any Bank of Ireland branch (you will need to  \\nbring photo ID with you), by 365 online or via phone banking when registered \\nfor these services.\\nInterest rate typeVariable - The interest rate may increase or decrease at the discretion of  \\nBank of Ireland.\\nInterest paymentInterest is paid annually, typically in March. See our Customer Deposits Rate \\nSheet on bankofireland.com  for current rates.\\nSole or Joint accounts Sole and Joint accounts permitted.\\nHow to applyYou can open this account online through the Bank of Ireland website \\nor in any Bank of Ireland branch.\\nTo open the account online, visit the savings page on bankofireland.com  \\nand go to the GoalSaver product page. Click the button “Apply now”.\\nOther important informationTo open an account, you must have a personal current account  \\nand be aged 18 or over. Customer  \\nInformation Sheet\\nProduct Information\\nAccount details are correct as at September 2022. Information is subject to change. Latest information is available at bankofireland.com\\nAt Bank of Ireland we offer a broad range of deposit options for our customers.\\nTalk to one of our Savings Adviser’s today for more information.\\nTerms and Conditions apply, these are available on bankofIreland.com\\nBank of Ireland is regulated by the Central Bank of Ireland.0818 365 254Promised yourself you’d be a better saver? You’ve come to the right place. Whether you’re a short term holiday \\nor new car saver. A long term wedding or house extension saver. Or you just need a rainy day fund  \\nfor unexpected emergencies, the GoalSaver Account could be just the ticket.GoalSaver Account', metadata={'source': '/home/jupyter/data/2570642-GoalSaver-Customer-Information-Sheet-V2-final.pdf', 'page': 0})]"
      ]
     },
     "execution_count": 110,
     "metadata": {},
     "output_type": "execute_result"
    }
   ],
   "source": [
    "pages"
   ]
  },
  {
   "cell_type": "code",
   "execution_count": 111,
   "id": "ec1b8c8a-8e30-4c39-9c51-2108093beea9",
   "metadata": {
    "tags": []
   },
   "outputs": [],
   "source": [
    "def generate_answer(context, question):\n",
    "    \"\"\"\n",
    "    Generates an answer to a given question based on the provided context using Vertex AI models.\n",
    "\n",
    "    Parameters:\n",
    "    - context (str): The context text which the answer should be based on.\n",
    "    - question (str): The question for which the answer is sought.\n",
    "\n",
    "    Steps:\n",
    "    1. Initializes two Vertex AI models:\n",
    "       - 'text-bison@001' for Large Language Model (LLM) text generation.\n",
    "       - 'textembedding-gecko@001' for embeddings.\n",
    "    2. Constructs a prompt template for answering questions using the provided context.\n",
    "    3. Creates a QA chain using the 'text-bison@001' model with the specified prompt.\n",
    "    4. Generates an answer using the QA chain based on the given context and question.\n",
    "\n",
    "    Returns:\n",
    "    str: The generated answer, or \"answer not available in context\" if the answer cannot be derived from the provided context.\n",
    "    \n",
    "    \"\"\"   \n",
    "    \n",
    "    vertex_llm_text = VertexAI(model_name=\"text-bison@001\")\n",
    "    #vertex_embeddings = VertexAIEmbeddings(model_name=\"textembedding-gecko@001\") \n",
    "    \n",
    "       \n",
    "    prompt_template = \"\"\"Answer the question as precise as possible using the provided context. If the answer is\n",
    "                        not contained in the context, say \"answer not available in context\" \\n\\n\n",
    "                        Context: \\n {context}?\\n\n",
    "                        Question: \\n {question} \\n\n",
    "                        Answer:\n",
    "                      \"\"\"\n",
    "\n",
    "    prompt = PromptTemplate(\n",
    "        template=prompt_template, input_variables=[\"context\",\"question\"]\n",
    "    )\n",
    "    stuff_chain = load_qa_chain(vertex_llm_text, chain_type=\"stuff\", prompt=prompt)\n",
    "    stuff_answer = stuff_chain(\n",
    "    {\"input_documents\": pages, \"question\": question}, return_only_outputs=True\n",
    "    )\n",
    "    return stuff_answer[\"output_text\"]"
   ]
  },
  {
   "cell_type": "code",
   "execution_count": 116,
   "id": "5ce732f3-dde2-420b-ad73-fdabb5fd2f1a",
   "metadata": {
    "tags": []
   },
   "outputs": [],
   "source": [
    "question='What savings accounts are there?'"
   ]
  },
  {
   "cell_type": "code",
   "execution_count": 117,
   "id": "4cc6d4b0-1d19-49c3-8dcd-245f88aca280",
   "metadata": {
    "tags": []
   },
   "outputs": [
    {
     "data": {
      "text/plain": [
       "'There are 3 savings accounts: SuperSaver Account, Advantage Fixed Term Deposit account and GoalSaver Account.'"
      ]
     },
     "execution_count": 117,
     "metadata": {},
     "output_type": "execute_result"
    }
   ],
   "source": [
    "generate_answer(context,question)"
   ]
  },
  {
   "cell_type": "code",
   "execution_count": 118,
   "id": "feaf80d0-f29c-4fc5-b8db-6b39a970d3c6",
   "metadata": {
    "tags": []
   },
   "outputs": [],
   "source": [
    "question='How much can I save with different accounts?'"
   ]
  },
  {
   "cell_type": "code",
   "execution_count": 119,
   "id": "be54b5e9-8d06-4a57-9809-6a78cb967b30",
   "metadata": {
    "tags": []
   },
   "outputs": [
    {
     "data": {
      "text/plain": [
       "'The minimum monthly amount for the SuperSaver account is €5 and the maximum monthly amount is €2,500. The minimum monthly amount for the Advantage Fixed Term Deposit account is €5,000 and the maximum monthly amount is not specified. The minimum monthly amount for the GoalSaver account is €20 and the maximum monthly amount is €2,000.'"
      ]
     },
     "execution_count": 119,
     "metadata": {},
     "output_type": "execute_result"
    }
   ],
   "source": [
    "generate_answer(context,question)"
   ]
  },
  {
   "cell_type": "code",
   "execution_count": 120,
   "id": "0cc359d5-40fc-4622-bfb6-3db61a6148e8",
   "metadata": {
    "tags": []
   },
   "outputs": [],
   "source": [
    "question='Write a very short summary of all accounts including the information about amounts and rates'"
   ]
  },
  {
   "cell_type": "code",
   "execution_count": 121,
   "id": "ba0fac22-d222-40e8-88ac-9ed77488f2f8",
   "metadata": {
    "tags": []
   },
   "outputs": [
    {
     "data": {
      "text/plain": [
       "'The SuperSaver Account has a minimum monthly amount of €5 and a maximum monthly amount of €2,500. The interest rate is fixed for 12 months and is paid at the end of the 12 month fixed rate period. The Advantage Fixed Term Deposit account has a minimum lodgement of €5,000 and a maximum lodgement of €5,000. The interest rate is fixed for the term of the account and is paid at maturity of the account. The GoalSaver Account has a minimum monthly amount of €20 and a maximum monthly amount of €2,000.'"
      ]
     },
     "execution_count": 121,
     "metadata": {},
     "output_type": "execute_result"
    }
   ],
   "source": [
    "generate_answer(context,question)"
   ]
  },
  {
   "cell_type": "code",
   "execution_count": 122,
   "id": "4e5bd3c8-e0f3-4073-a7d5-1111cd3e4da0",
   "metadata": {
    "tags": []
   },
   "outputs": [],
   "source": [
    "question='What can I save for?'"
   ]
  },
  {
   "cell_type": "code",
   "execution_count": 123,
   "id": "f4485c1c-596d-439a-8b78-3239e4119a83",
   "metadata": {
    "tags": []
   },
   "outputs": [
    {
     "data": {
      "text/plain": [
       "'You can save for a short term holiday or new car, a long term wedding or house extension, or you can just save for a rainy day fund.'"
      ]
     },
     "execution_count": 123,
     "metadata": {},
     "output_type": "execute_result"
    }
   ],
   "source": [
    "generate_answer(context,question)"
   ]
  },
  {
   "cell_type": "code",
   "execution_count": 124,
   "id": "725265bd-af69-42b5-868c-469280b2f6d8",
   "metadata": {
    "tags": []
   },
   "outputs": [],
   "source": [
    "question='Give me the rates'"
   ]
  },
  {
   "cell_type": "code",
   "execution_count": 125,
   "id": "38d88823-e6ce-492f-8d4b-ed761c144935",
   "metadata": {
    "tags": []
   },
   "outputs": [
    {
     "data": {
      "text/plain": [
       "'The interest rate is variable and may increase or decrease at the discretion of Bank of Ireland.'"
      ]
     },
     "execution_count": 125,
     "metadata": {},
     "output_type": "execute_result"
    }
   ],
   "source": [
    "generate_answer(context,question)"
   ]
  },
  {
   "cell_type": "code",
   "execution_count": 126,
   "id": "1fc4e737-a005-4838-883d-02f39a22cad6",
   "metadata": {
    "tags": []
   },
   "outputs": [],
   "source": [
    "question='Give me the rates of all accounts'"
   ]
  },
  {
   "cell_type": "code",
   "execution_count": 127,
   "id": "08ae4ac0-333a-458f-90e8-fea2364bc147",
   "metadata": {
    "tags": []
   },
   "outputs": [
    {
     "data": {
      "text/plain": [
       "'The interest rate for the SuperSaver Account is 0.05%.\\nThe interest rate for the Advantage Fixed Term Deposit Account is 0.05%.\\nThe interest rate for the GoalSaver Account is 0.05%.'"
      ]
     },
     "execution_count": 127,
     "metadata": {},
     "output_type": "execute_result"
    }
   ],
   "source": [
    "generate_answer(context,question)"
   ]
  },
  {
   "cell_type": "code",
   "execution_count": 128,
   "id": "8baaddd4-87e5-494a-ae88-e6530db1c432",
   "metadata": {
    "tags": []
   },
   "outputs": [],
   "source": [
    "question='I am broke. Is there a chance for me?'"
   ]
  },
  {
   "cell_type": "code",
   "execution_count": 129,
   "id": "635f2ac9-fcc7-4c6f-bf3d-ac3359a3fecb",
   "metadata": {
    "tags": []
   },
   "outputs": [
    {
     "data": {
      "text/plain": [
       "'Yes, you can open a GoalSaver account with a minimum monthly amount of €20.'"
      ]
     },
     "execution_count": 129,
     "metadata": {},
     "output_type": "execute_result"
    }
   ],
   "source": [
    "generate_answer(context,question)"
   ]
  },
  {
   "cell_type": "code",
   "execution_count": 130,
   "id": "ffb1c08a-6b14-4b2e-90a8-416b8d371eb2",
   "metadata": {
    "tags": []
   },
   "outputs": [],
   "source": [
    "question='Which of these accounts would amaze me?'"
   ]
  },
  {
   "cell_type": "code",
   "execution_count": 131,
   "id": "0512021e-fa74-4504-bbff-94e198716234",
   "metadata": {
    "tags": []
   },
   "outputs": [
    {
     "data": {
      "text/plain": [
       "'The SuperSaver Account would amaze you.'"
      ]
     },
     "execution_count": 131,
     "metadata": {},
     "output_type": "execute_result"
    }
   ],
   "source": [
    "generate_answer(context,question)"
   ]
  },
  {
   "cell_type": "code",
   "execution_count": 132,
   "id": "3a24ce3c-1001-42d4-b7f6-7846471b1432",
   "metadata": {
    "tags": []
   },
   "outputs": [],
   "source": [
    "question='Why SuperSaver Account would amaze me?'"
   ]
  },
  {
   "cell_type": "code",
   "execution_count": 133,
   "id": "82edb659-106b-478c-8275-5749a95622b6",
   "metadata": {
    "tags": []
   },
   "outputs": [
    {
     "data": {
      "text/plain": [
       "'The SuperSaver Account offers a fixed rate for 12 months, along with a range of extra benefits.'"
      ]
     },
     "execution_count": 133,
     "metadata": {},
     "output_type": "execute_result"
    }
   ],
   "source": [
    "generate_answer(context,question)"
   ]
  },
  {
   "cell_type": "code",
   "execution_count": 134,
   "id": "035da383-9366-4e30-86f6-25d78b8deec2",
   "metadata": {
    "tags": []
   },
   "outputs": [],
   "source": [
    "question='If you were me which one would you pick?'"
   ]
  },
  {
   "cell_type": "code",
   "execution_count": 135,
   "id": "dd7c4d90-0b05-45e5-bb8a-47218963f52e",
   "metadata": {
    "tags": []
   },
   "outputs": [
    {
     "data": {
      "text/plain": [
       "'I would pick the GoalSaver Account because it has a higher interest rate than the other two accounts.'"
      ]
     },
     "execution_count": 135,
     "metadata": {},
     "output_type": "execute_result"
    }
   ],
   "source": [
    "generate_answer(context,question)"
   ]
  },
  {
   "cell_type": "code",
   "execution_count": 138,
   "id": "56a4a61d-7b83-45da-bdc5-b621999c8f38",
   "metadata": {
    "tags": []
   },
   "outputs": [],
   "source": [
    "question='Does GoalSaver Account have a higher interest rate than the other two accounts'"
   ]
  },
  {
   "cell_type": "code",
   "execution_count": 139,
   "id": "58673c30-e984-4870-81b8-4583bf83fc7e",
   "metadata": {
    "tags": []
   },
   "outputs": [
    {
     "data": {
      "text/plain": [
       "'The interest rate for the GoalSaver Account is variable, which means that it can change at any time. The interest rate for the Advantage Fixed Term Deposit Account is fixed, which means that it will not change for the term of the account. The interest rate for the SuperSaver Account is fixed for 12 months, which means that it will not change for the first 12 months of the account.'"
      ]
     },
     "execution_count": 139,
     "metadata": {},
     "output_type": "execute_result"
    }
   ],
   "source": [
    "generate_answer(context,question)"
   ]
  },
  {
   "cell_type": "code",
   "execution_count": 144,
   "id": "98ff5ce0-d598-4e5c-8aef-3c8ac01e201c",
   "metadata": {
    "tags": []
   },
   "outputs": [],
   "source": [
    "question='What if I forget I have a savings account?'"
   ]
  },
  {
   "cell_type": "code",
   "execution_count": 145,
   "id": "8ae693b4-ac5e-4daa-a5a6-903a29dfea79",
   "metadata": {
    "tags": []
   },
   "outputs": [
    {
     "data": {
      "text/plain": [
       "'You can contact the bank and they will be able to help you find your account.'"
      ]
     },
     "execution_count": 145,
     "metadata": {},
     "output_type": "execute_result"
    }
   ],
   "source": [
    "generate_answer(context,question)"
   ]
  },
  {
   "cell_type": "code",
   "execution_count": 146,
   "id": "eda4a328-c4bb-46a4-aa33-2d953c1be762",
   "metadata": {
    "tags": []
   },
   "outputs": [],
   "source": [
    "question='What do you personally think about these accounts?'"
   ]
  },
  {
   "cell_type": "code",
   "execution_count": 147,
   "id": "57d37eda-aede-4e23-a591-53a952ae54fb",
   "metadata": {
    "tags": []
   },
   "outputs": [
    {
     "data": {
      "text/plain": [
       "'I think that these accounts are great for people who are looking to save money. They offer a variety of different options, so you can find the one that best suits your needs. I also like that they offer competitive interest rates, so you can earn money on your savings.'"
      ]
     },
     "execution_count": 147,
     "metadata": {},
     "output_type": "execute_result"
    }
   ],
   "source": [
    "generate_answer(context,question)"
   ]
  },
  {
   "cell_type": "code",
   "execution_count": 148,
   "id": "e36b0896-5369-4f29-9bee-6040346896a6",
   "metadata": {
    "tags": []
   },
   "outputs": [],
   "source": [
    "question='What if there is a crisis?'"
   ]
  },
  {
   "cell_type": "code",
   "execution_count": 149,
   "id": "27520e38-f283-47f5-acd7-225ccd7d790c",
   "metadata": {
    "tags": []
   },
   "outputs": [
    {
     "data": {
      "text/plain": [
       "'The interest rate may increase or decrease at the discretion of Bank of Ireland.'"
      ]
     },
     "execution_count": 149,
     "metadata": {},
     "output_type": "execute_result"
    }
   ],
   "source": [
    "generate_answer(context,question)"
   ]
  },
  {
   "cell_type": "code",
   "execution_count": 150,
   "id": "736422a5-190d-4fc1-9a18-12a8455bfe14",
   "metadata": {
    "tags": []
   },
   "outputs": [],
   "source": [
    "question='What if I inherit a ton of money?'"
   ]
  },
  {
   "cell_type": "code",
   "execution_count": 91,
   "id": "eed4a89b-f0f1-496a-9608-57d5f1906c98",
   "metadata": {
    "tags": []
   },
   "outputs": [
    {
     "data": {
      "text/plain": [
       "'You can open an Advantage Fixed Term Deposit account in any Bank of Ireland branch.'"
      ]
     },
     "execution_count": 91,
     "metadata": {},
     "output_type": "execute_result"
    }
   ],
   "source": [
    "generate_answer(context,question)"
   ]
  },
  {
   "cell_type": "code",
   "execution_count": 151,
   "id": "cc6582a2-f454-4b05-a6af-83aefd5e4ddb",
   "metadata": {
    "tags": []
   },
   "outputs": [],
   "source": [
    "question='What if I inherit some money?'"
   ]
  },
  {
   "cell_type": "code",
   "execution_count": 152,
   "id": "ad9a627d-5c4e-40a7-a6fe-8c488e71d706",
   "metadata": {
    "tags": []
   },
   "outputs": [
    {
     "data": {
      "text/plain": [
       "'You can open a GoalSaver account and save for your goal.'"
      ]
     },
     "execution_count": 152,
     "metadata": {},
     "output_type": "execute_result"
    }
   ],
   "source": [
    "generate_answer(context,question) #it sees the difference between a ton of money and some money :)"
   ]
  },
  {
   "cell_type": "code",
   "execution_count": 97,
   "id": "6a7b8734-3ce2-4dba-a771-d4dad48da9ab",
   "metadata": {
    "tags": []
   },
   "outputs": [],
   "source": [
    "def summarize(context):\n",
    "    \n",
    "    vertex_llm_text = VertexAI(model_name=\"text-bison@001\")\n",
    "    vertex_embeddings = VertexAIEmbeddings(model_name=\"textembedding-gecko@001\") \n",
    "    \n",
    "       \n",
    "    prompt_template = \"\"\"Summarize the context in a few lines \\n\\n\n",
    "                        Context: \\n {context}?\\n                       \n",
    "                        Answer:\n",
    "                      \"\"\"\n",
    "\n",
    "    prompt = PromptTemplate(\n",
    "        template=prompt_template, input_variables=[\"context\"]\n",
    "    )\n",
    "    stuff_chain = load_qa_chain(vertex_llm_text, chain_type=\"stuff\", prompt=prompt)\n",
    "    stuff_answer = stuff_chain(\n",
    "    {\"input_documents\": pages}, return_only_outputs=True\n",
    "    )\n",
    "    return stuff_answer[\"output_text\"]"
   ]
  },
  {
   "cell_type": "code",
   "execution_count": 98,
   "id": "2f7bc752-fffd-4897-a32b-9b3d8b9ec60a",
   "metadata": {
    "tags": []
   },
   "outputs": [
    {
     "data": {
      "text/plain": [
       "'The context is about 3 saving accounts offered by Bank of Ireland. The accounts are SuperSaver Account, Advantage Fixed Term Deposit account and GoalSaver Account.'"
      ]
     },
     "execution_count": 98,
     "metadata": {},
     "output_type": "execute_result"
    }
   ],
   "source": [
    "summarize(context)"
   ]
  },
  {
   "cell_type": "code",
   "execution_count": 106,
   "id": "5cd26a4d-4d31-4a6e-b7bd-01fcdb4a6da8",
   "metadata": {
    "tags": []
   },
   "outputs": [],
   "source": [
    "def summarize(context):\n",
    "    \n",
    "    vertex_llm_text = VertexAI(model_name=\"text-bison@001\")\n",
    "    vertex_embeddings = VertexAIEmbeddings(model_name=\"textembedding-gecko@001\") \n",
    "    \n",
    "       \n",
    "    prompt_template = \"\"\"Summarize the information about the three accounts in few lines \\n\\n\n",
    "                        Context: \\n {context}?\\n                       \n",
    "                        Answer:\n",
    "                      \"\"\"\n",
    "\n",
    "    prompt = PromptTemplate(\n",
    "        template=prompt_template, input_variables=[\"context\"]\n",
    "    )\n",
    "    stuff_chain = load_qa_chain(vertex_llm_text, chain_type=\"stuff\", prompt=prompt)\n",
    "    stuff_answer = stuff_chain(\n",
    "    {\"input_documents\": pages}, return_only_outputs=True\n",
    "    )\n",
    "    return stuff_answer[\"output_text\"]"
   ]
  },
  {
   "cell_type": "code",
   "execution_count": 107,
   "id": "883f01ba-a354-4219-a126-95ee5d90d55d",
   "metadata": {
    "tags": []
   },
   "outputs": [
    {
     "data": {
      "text/plain": [
       "'The SuperSaver Account is a savings account with a fixed interest rate for 12 months.\\nThe Advantage Fixed Term Deposit account is a fixed term deposit account with a fixed interest rate for a term of 6 months, 12 months or 24 months.\\nThe GoalSaver Account is a variable rate savings account with no minimum monthly deposit.'"
      ]
     },
     "execution_count": 107,
     "metadata": {},
     "output_type": "execute_result"
    }
   ],
   "source": [
    "summarize(context)"
   ]
  },
  {
   "cell_type": "code",
   "execution_count": null,
   "id": "c81cde10-a8f9-4337-badb-07c8aa9f6aa8",
   "metadata": {},
   "outputs": [],
   "source": []
  }
 ],
 "metadata": {
  "environment": {
   "kernel": "conda-root-py",
   "name": "workbench-notebooks.m113",
   "type": "gcloud",
   "uri": "gcr.io/deeplearning-platform-release/workbench-notebooks:m113"
  },
  "kernelspec": {
   "display_name": "Python 3 (ipykernel)",
   "language": "python",
   "name": "python3"
  },
  "language_info": {
   "codemirror_mode": {
    "name": "ipython",
    "version": 3
   },
   "file_extension": ".py",
   "mimetype": "text/x-python",
   "name": "python",
   "nbconvert_exporter": "python",
   "pygments_lexer": "ipython3",
   "version": "3.9.12"
  }
 },
 "nbformat": 4,
 "nbformat_minor": 5
}
