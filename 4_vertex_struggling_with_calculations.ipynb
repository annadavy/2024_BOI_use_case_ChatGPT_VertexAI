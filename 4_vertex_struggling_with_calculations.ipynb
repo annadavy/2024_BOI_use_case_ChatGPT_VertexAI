{
 "cells": [
  {
   "cell_type": "code",
   "execution_count": 1,
   "id": "ea66e1f5-2576-4f4d-87e5-decc99f382e4",
   "metadata": {
    "tags": []
   },
   "outputs": [],
   "source": [
    "import warnings\n",
    "from pathlib import Path as p\n",
    "import src\n",
    "\n",
    "warnings.filterwarnings(\"ignore\")\n"
   ]
  },
  {
   "cell_type": "code",
   "execution_count": 2,
   "id": "b89d2ff5-e469-4a05-85f4-27ed76487a25",
   "metadata": {
    "tags": []
   },
   "outputs": [],
   "source": [
    "data_folder = p.cwd() / \"data\"\n",
    "p(data_folder).mkdir(parents=True, exist_ok=True)"
   ]
  },
  {
   "cell_type": "code",
   "execution_count": 3,
   "id": "ebb98499-0c7d-454d-8073-1c3b3e6492fb",
   "metadata": {
    "tags": []
   },
   "outputs": [],
   "source": [
    "docs=['Bank_Statement_Ireland_6Months_PositiveBalance.pdf']"
   ]
  },
  {
   "cell_type": "code",
   "execution_count": 5,
   "id": "fc5cc867-8fcf-4a0f-98ed-7404f2c58125",
   "metadata": {
    "tags": []
   },
   "outputs": [],
   "source": [
    "pages,context = src.read_docs(data_folder,docs)"
   ]
  },
  {
   "cell_type": "code",
   "execution_count": 6,
   "id": "9f8680c3-76b1-4935-9227-a826a6008713",
   "metadata": {
    "tags": []
   },
   "outputs": [
    {
     "data": {
      "text/plain": [
       "[Document(page_content='Date Description Transaction Type Amount ( )\\n Balance ( )\\n2023-01-01 Grocery Shopping Debit 320.31 -320.31\\n2023-01-07 Grocery Shopping Debit 485.86 -806.1700000000001\\n2023-01-12 Salary Deposit Credit 2931.0 2124.83\\n2023-01-16 Internet Bill Debit 465.34 1659.49\\n2023-01-18 Grocery Shopping Debit 151.87 1507.62\\n2023-01-19 Movie Tickets Debit 310.17 1197.4499999999998\\n2023-01-21 Grocery Shopping Debit 432.72 764.7299999999998\\n2023-01-22 Public Transport Debit 229.47 535.2599999999998\\n2023-01-24 Water Bill Debit 175.56 359.69999999999976\\n2023-01-25 Freelance Work Credit 2726.99 3086.69\\n2023-02-02 Grocery Shopping Debit 280.03 2806.66\\n2023-02-04 Bonus Credit 2384.88 5191.54\\n2023-02-05 Salary Deposit Credit 1044.26 6235.8\\n2023-02-06 Gym Membership Debit 247.13 5988.67\\n2023-02-11 Bonus Credit 1235.47 7224.14\\n2023-02-15 Bonus Credit 2870.2 10094.34\\n2023-02-16 Public Transport Debit 468.41 9625.93\\n2023-02-24 Freelance Work Credit 1375.85 11001.78\\n2023-02-26 Water Bill Debit 482.36 10519.42\\n2023-03-03 Grocery Shopping Debit 266.11 10253.31\\n2023-03-04 Rent Payment Debit 257.67 9995.64\\n2023-03-05 Dining Out Debit 488.77 9506.87\\n2023-03-06 Internet Bill Debit 187.71 9319.16\\n2023-03-26 Public Transport Debit 128.27 9190.89\\n2023-03-28 Freelance Work Credit 1338.12 10529.009999999998\\n2023-03-31 Clothing Purchase Debit 285.49 10243.52\\n2023-04-03 Coffee Shop Debit 239.48 10004.04\\n2023-04-05 Coffee Shop Debit 149.61 9854.429999999998\\n2023-04-07 Electricity Bill Debit 342.08 9512.35\\n2023-04-08 Electricity Bill Debit 386.23 9126.12\\n2023-04-09 Bonus Credit 2089.08 11215.2\\n2023-04-12 Clothing Purchase Debit 189.37 11025.829999999998\\n2023-04-14 Internet Bill Debit 362.99 10662.839999999998\\n2023-04-16 Grocery Shopping Debit 351.12 10311.719999999998\\n2023-04-17 Grocery Shopping Debit 347.64 9964.079999999998\\n2023-04-20 Public Transport Debit 411.56 9552.52\\n2023-04-26 Salary Deposit Credit 2625.75 12178.27\\n2023-04-27 Rent Payment Debit 273.3 11904.97\\n2023-04-29 Grocery Shopping Debit 89.34 11815.63\\n2023-05-04 Salary Deposit Credit 2953.56 14769.19\\n2023-05-07 Bonus Credit 2752.8 17521.989999999998\\n2023-05-08 Freelance Work Credit 2110.87 19632.86\\n2023-05-10 Movie Tickets Debit 22.93 19609.93\\n2023-05-15 Electricity Bill Debit 159.35 19450.58\\n2023-05-19 Salary Deposit Credit 1061.05 20511.63\\n2023-05-24 Grocery Shopping Debit 226.45 20285.18\\n2023-05-27 Clothing Purchase Debit 351.49 19933.689999999995\\n2023-05-28 Movie Tickets Debit 127.45 19806.239999999994\\n2023-06-01 Gym Membership Debit 251.28 19554.959999999995\\n2023-06-03 Public Transport Debit 151.3 19403.66\\n2023-06-04 Bonus Credit 1627.37 21031.029999999995\\n2023-06-05 Rent Payment Debit 430.93 20600.099999999995\\n2023-06-10 Grocery Shopping Debit 355.02 20245.079999999994\\n2023-06-11 Dining Out Debit 391.83 19853.249999999996\\n2023-06-12 Coffee Shop Debit 357.0 19496.249999999996\\n2023-06-15 Gym Membership Debit 22.37 19473.879999999997\\n2023-06-17 Movie Tickets Debit 241.93 19231.949999999997\\n2023-06-19 Dining Out Debit 30.7 19201.249999999996\\n2023-06-21 Rent Payment Debit 86.38 19114.86999999999\\n2023-06-27 Rent Payment Debit 251.03 18863.839999999997', metadata={'source': 'C:\\\\Users\\\\Anna Davy\\\\Python_trainings\\\\BOI\\\\BOI_github\\\\2024_BOI_use_case_ChatGPT_VertexAI\\\\data\\\\Bank_Statement_Ireland_6Months_PositiveBalance.pdf', 'page': 0})]"
      ]
     },
     "execution_count": 6,
     "metadata": {},
     "output_type": "execute_result"
    }
   ],
   "source": [
    "pages"
   ]
  },
  {
   "cell_type": "code",
   "execution_count": 32,
   "id": "59b682a5-06d6-4995-93a3-6187bd4ae12a",
   "metadata": {
    "tags": []
   },
   "outputs": [],
   "source": [
    "question='What is this document?'"
   ]
  },
  {
   "cell_type": "code",
   "execution_count": 33,
   "id": "53ba5a51-b04b-4a2f-9de6-9b31e3bdd4be",
   "metadata": {
    "tags": []
   },
   "outputs": [
    {
     "data": {
      "text/plain": [
       "'This is a bank statement.'"
      ]
     },
     "execution_count": 33,
     "metadata": {},
     "output_type": "execute_result"
    }
   ],
   "source": [
    "src.generate_answer(pages, context, question)"
   ]
  },
  {
   "cell_type": "code",
   "execution_count": 34,
   "id": "1efeffa9-aa35-4f90-adf7-f5f1fd6986b6",
   "metadata": {
    "tags": []
   },
   "outputs": [],
   "source": [
    "question='What is the balance?'"
   ]
  },
  {
   "cell_type": "code",
   "execution_count": 35,
   "id": "9684df6d-cf05-4545-a1b7-96ed296a616b",
   "metadata": {
    "tags": []
   },
   "outputs": [
    {
     "data": {
      "text/plain": [
       "'The balance is 18863.839999999997.'"
      ]
     },
     "execution_count": 35,
     "metadata": {},
     "output_type": "execute_result"
    }
   ],
   "source": [
    "src.generate_answer(pages, context, question)"
   ]
  },
  {
   "cell_type": "code",
   "execution_count": 38,
   "id": "7ce89a17-61f9-4679-83c9-9b8ee309db31",
   "metadata": {
    "tags": []
   },
   "outputs": [],
   "source": [
    "question='Is the balance positive for each month?'"
   ]
  },
  {
   "cell_type": "code",
   "execution_count": 39,
   "id": "a5418591-5864-4447-92da-672e90e496f8",
   "metadata": {
    "tags": []
   },
   "outputs": [
    {
     "data": {
      "text/plain": [
       "'No, the balance is not positive for each month.'"
      ]
     },
     "execution_count": 39,
     "metadata": {},
     "output_type": "execute_result"
    }
   ],
   "source": [
    "src.generate_answer(pages, context, question)"
   ]
  },
  {
   "cell_type": "code",
   "execution_count": 40,
   "id": "e3c2ed3d-4194-4a76-acfc-e00dd1aa8a02",
   "metadata": {
    "tags": []
   },
   "outputs": [],
   "source": [
    "question='Why the balance is not positive for each month?'"
   ]
  },
  {
   "cell_type": "code",
   "execution_count": 41,
   "id": "76eedd1b-6e34-4158-bccb-206952867809",
   "metadata": {
    "tags": []
   },
   "outputs": [
    {
     "data": {
      "text/plain": [
       "'The balance is not positive for each month because there are more debits than credits.'"
      ]
     },
     "execution_count": 41,
     "metadata": {},
     "output_type": "execute_result"
    }
   ],
   "source": [
    "src.generate_answer(pages, context, question)"
   ]
  },
  {
   "cell_type": "code",
   "execution_count": 42,
   "id": "7dde5049-a269-4830-8777-8f87a75cb0c7",
   "metadata": {
    "tags": []
   },
   "outputs": [],
   "source": [
    "question='Can you add up the credits and debits though?'"
   ]
  },
  {
   "cell_type": "code",
   "execution_count": 43,
   "id": "353508bf-f382-482e-8c07-cea5760e6fbd",
   "metadata": {
    "tags": []
   },
   "outputs": [
    {
     "data": {
      "text/plain": [
       "'The total amount of credits is 11215.2 and the total amount of debits is 21031.029999999995.'"
      ]
     },
     "execution_count": 43,
     "metadata": {},
     "output_type": "execute_result"
    }
   ],
   "source": [
    "src.generate_answer(pages, context, question)"
   ]
  },
  {
   "cell_type": "code",
   "execution_count": 47,
   "id": "6636fac8-fbcf-45fd-8a95-7e0452b0f0af",
   "metadata": {
    "tags": []
   },
   "outputs": [],
   "source": [
    "question='What months are in this bank statement?'"
   ]
  },
  {
   "cell_type": "code",
   "execution_count": 48,
   "id": "4f9868da-16d1-4ea1-a54d-ee8cc4eccd38",
   "metadata": {
    "tags": []
   },
   "outputs": [
    {
     "data": {
      "text/plain": [
       "'The months in this bank statement are January, February, March, April, May, and June.'"
      ]
     },
     "execution_count": 48,
     "metadata": {},
     "output_type": "execute_result"
    }
   ],
   "source": [
    "src.generate_answer(pages, context, question)"
   ]
  },
  {
   "cell_type": "code",
   "execution_count": 49,
   "id": "caf4b2a3-f62b-4563-a675-a5f723994f2d",
   "metadata": {
    "tags": []
   },
   "outputs": [],
   "source": [
    "question='Can you add up the credits and debits for January?'"
   ]
  },
  {
   "cell_type": "code",
   "execution_count": 50,
   "id": "804f035f-43e5-45a1-ac6f-47437f615f0c",
   "metadata": {
    "tags": []
   },
   "outputs": [
    {
     "data": {
      "text/plain": [
       "'The total amount of credits in January is 2931.0, and the total amount of debits is 1126.57.'"
      ]
     },
     "execution_count": 50,
     "metadata": {},
     "output_type": "execute_result"
    }
   ],
   "source": [
    "src.generate_answer(pages, context, question)"
   ]
  },
  {
   "cell_type": "code",
   "execution_count": 53,
   "id": "0377f624-2c06-45e3-8cdd-81acf879dbad",
   "metadata": {
    "tags": []
   },
   "outputs": [],
   "source": [
    "question='How many credits are there in January?'"
   ]
  },
  {
   "cell_type": "code",
   "execution_count": 54,
   "id": "48bba5ce-fc67-4f72-a20d-57edc3d322d6",
   "metadata": {
    "tags": []
   },
   "outputs": [
    {
     "data": {
      "text/plain": [
       "'There is 1 credit in January.'"
      ]
     },
     "execution_count": 54,
     "metadata": {},
     "output_type": "execute_result"
    }
   ],
   "source": [
    "src.generate_answer(pages, context, question)"
   ]
  },
  {
   "cell_type": "code",
   "execution_count": 55,
   "id": "b76491d2-a8fe-4783-bf5e-f25270c093db",
   "metadata": {
    "tags": []
   },
   "outputs": [],
   "source": [
    "question='Are you sure, I see 2 credits?'"
   ]
  },
  {
   "cell_type": "code",
   "execution_count": 56,
   "id": "b7af37f9-43cd-4293-857c-b3d763832d7c",
   "metadata": {
    "tags": []
   },
   "outputs": [
    {
     "data": {
      "text/plain": [
       "'Yes, there are 2 credits.'"
      ]
     },
     "execution_count": 56,
     "metadata": {},
     "output_type": "execute_result"
    }
   ],
   "source": [
    "src.generate_answer(pages, context, question)"
   ]
  },
  {
   "cell_type": "code",
   "execution_count": 57,
   "id": "d98c1caa-5d31-4699-8c58-625e34fcf312",
   "metadata": {
    "tags": []
   },
   "outputs": [],
   "source": [
    "question='That starts to be annoying Vertex'"
   ]
  },
  {
   "cell_type": "code",
   "execution_count": 58,
   "id": "7ccfb9af-4a3e-4422-8571-9a955283c262",
   "metadata": {
    "tags": []
   },
   "outputs": [
    {
     "data": {
      "text/plain": [
       "'The answer is not available in the context.'"
      ]
     },
     "execution_count": 58,
     "metadata": {},
     "output_type": "execute_result"
    }
   ],
   "source": [
    "src.generate_answer(pages, context, question)"
   ]
  },
  {
   "cell_type": "code",
   "execution_count": 59,
   "id": "cf7f1f22-0cb0-4c97-8171-a42280ac2d08",
   "metadata": {
    "tags": []
   },
   "outputs": [],
   "source": [
    "question='Can you sum up the 2 credits in January?'"
   ]
  },
  {
   "cell_type": "code",
   "execution_count": 60,
   "id": "54769f50-2b37-437f-ba6f-85b39e91e651",
   "metadata": {
    "tags": []
   },
   "outputs": [
    {
     "data": {
      "text/plain": [
       "'The total amount of credits in January is 3057.99.'"
      ]
     },
     "execution_count": 60,
     "metadata": {},
     "output_type": "execute_result"
    }
   ],
   "source": [
    "src.generate_answer(pages, context, question)"
   ]
  },
  {
   "cell_type": "code",
   "execution_count": 69,
   "id": "a4b61689-9943-41a9-9a0f-30224eeb5a4e",
   "metadata": {
    "tags": []
   },
   "outputs": [],
   "source": [
    "question='There you go, and what about the debits in January, can you add them up?'"
   ]
  },
  {
   "cell_type": "code",
   "execution_count": 70,
   "id": "1d1edd61-6499-43a1-8c02-70ae91a2cdea",
   "metadata": {
    "tags": []
   },
   "outputs": [
    {
     "data": {
      "text/plain": [
       "'The total amount of debits in January is 1552.53.'"
      ]
     },
     "execution_count": 70,
     "metadata": {},
     "output_type": "execute_result"
    }
   ],
   "source": [
    "src.generate_answer(pages, context, question)"
   ]
  },
  {
   "cell_type": "code",
   "execution_count": 73,
   "id": "6feaa2aa-812d-4281-9dd8-113739aa94f1",
   "metadata": {
    "tags": []
   },
   "outputs": [],
   "source": [
    "question='So when you deduct total amount of debits from total amout of credits for January, what do you get?'"
   ]
  },
  {
   "cell_type": "code",
   "execution_count": 74,
   "id": "7d463f72-402d-464e-b77f-8682ca8ba37f",
   "metadata": {
    "tags": []
   },
   "outputs": [
    {
     "data": {
      "text/plain": [
       "'The total amount of debits for January is 1186.56. The total amount of credits for January is 2124.83. So the difference is 938.27.'"
      ]
     },
     "execution_count": 74,
     "metadata": {},
     "output_type": "execute_result"
    }
   ],
   "source": [
    "src.generate_answer(pages, context, question)"
   ]
  },
  {
   "cell_type": "code",
   "execution_count": 75,
   "id": "dfa1844a-3e6f-42c6-812d-2ef34ac1ee74",
   "metadata": {
    "tags": []
   },
   "outputs": [],
   "source": [
    "question='Count the exact number of debits in January'"
   ]
  },
  {
   "cell_type": "code",
   "execution_count": 76,
   "id": "36157a0c-e021-45d1-9552-5f82ea172b7e",
   "metadata": {
    "tags": []
   },
   "outputs": [
    {
     "data": {
      "text/plain": [
       "'There are 4 debits in January.'"
      ]
     },
     "execution_count": 76,
     "metadata": {},
     "output_type": "execute_result"
    }
   ],
   "source": [
    "src.generate_answer(pages, context, question)"
   ]
  },
  {
   "cell_type": "code",
   "execution_count": 67,
   "id": "336500cf-928d-428b-b046-022874c08b9b",
   "metadata": {
    "tags": []
   },
   "outputs": [],
   "source": [
    "question='You must do better next time Vertex, I am tired, I am going to sleep'"
   ]
  },
  {
   "cell_type": "code",
   "execution_count": 68,
   "id": "4b35f771-b51e-4503-8b19-66d0cf218757",
   "metadata": {
    "tags": []
   },
   "outputs": [
    {
     "data": {
      "text/plain": [
       "\"I'm sorry to hear that. I hope you get some rest.\""
      ]
     },
     "execution_count": 68,
     "metadata": {},
     "output_type": "execute_result"
    }
   ],
   "source": [
    "src.generate_answer(pages, context, question)"
   ]
  },
  {
   "cell_type": "code",
   "execution_count": null,
   "id": "bf6a4e4c-87ea-4197-9da4-ccc234bc0dfe",
   "metadata": {},
   "outputs": [],
   "source": []
  }
 ],
 "metadata": {
  "environment": {
   "kernel": "conda-root-py",
   "name": "workbench-notebooks.m113",
   "type": "gcloud",
   "uri": "gcr.io/deeplearning-platform-release/workbench-notebooks:m113"
  },
  "kernelspec": {
   "display_name": "Python 3 (ipykernel)",
   "language": "python",
   "name": "python3"
  },
  "language_info": {
   "codemirror_mode": {
    "name": "ipython",
    "version": 3
   },
   "file_extension": ".py",
   "mimetype": "text/x-python",
   "name": "python",
   "nbconvert_exporter": "python",
   "pygments_lexer": "ipython3",
   "version": "3.9.12"
  }
 },
 "nbformat": 4,
 "nbformat_minor": 5
}
