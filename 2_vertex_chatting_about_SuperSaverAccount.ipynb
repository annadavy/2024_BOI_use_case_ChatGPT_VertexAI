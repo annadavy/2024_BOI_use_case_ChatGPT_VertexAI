{
 "cells": [
  {
   "cell_type": "code",
   "execution_count": null,
   "id": "10d71ab0-cf79-4d37-ad2d-103f958dc352",
   "metadata": {},
   "outputs": [],
   "source": [
    "!pip install pypdf"
   ]
  },
  {
   "cell_type": "code",
   "execution_count": 1,
   "id": "6f03b503-dbb8-4fc5-b2bf-36be3da15670",
   "metadata": {
    "tags": []
   },
   "outputs": [
    {
     "data": {
      "text/plain": [
       "{'status': 'ok', 'restart': True}"
      ]
     },
     "execution_count": 1,
     "metadata": {},
     "output_type": "execute_result"
    }
   ],
   "source": [
    "import IPython\n",
    "import time\n",
    "\n",
    "app = IPython.Application.instance()\n",
    "app.kernel.do_shutdown(True)"
   ]
  },
  {
   "cell_type": "code",
   "execution_count": 1,
   "id": "7aca822a-0cc6-44c1-9747-913b557a6ee0",
   "metadata": {
    "tags": []
   },
   "outputs": [],
   "source": [
    "import urllib\n",
    "import warnings\n",
    "from pathlib import Path as p\n",
    "from pprint import pprint\n",
    "\n",
    "import pandas as pd\n",
    "from langchain import PromptTemplate\n",
    "from langchain.chains.question_answering import load_qa_chain\n",
    "from langchain.document_loaders import PyPDFLoader\n",
    "from langchain.embeddings import VertexAIEmbeddings\n",
    "from langchain.llms import VertexAI\n",
    "from langchain.text_splitter import CharacterTextSplitter\n",
    "from langchain.vectorstores import Chroma\n",
    "\n",
    "warnings.filterwarnings(\"ignore\")"
   ]
  },
  {
   "cell_type": "code",
   "execution_count": 2,
   "id": "a93b6452-c240-4ab1-ae16-df23597d2fb5",
   "metadata": {
    "tags": []
   },
   "outputs": [],
   "source": [
    "data_folder = p.cwd() / \"data\"\n",
    "p(data_folder).mkdir(parents=True, exist_ok=True)"
   ]
  },
  {
   "cell_type": "code",
   "execution_count": 3,
   "id": "58a59c2c-8884-4c03-ba0e-374a5816ba61",
   "metadata": {
    "tags": []
   },
   "outputs": [
    {
     "data": {
      "text/plain": [
       "('/home/jupyter/data/Customer-Info-Sheet-SuperSaver-Account-1.pdf',\n",
       " <http.client.HTTPMessage at 0x7f719577ad40>)"
      ]
     },
     "execution_count": 3,
     "metadata": {},
     "output_type": "execute_result"
    }
   ],
   "source": [
    "#Reading 'Customer-Info-Sheet-SuperSaver-Account-1.pdf' from bankofireland.com website\n",
    "\n",
    "pdf_url = \"https://personalbanking.bankofireland.com/app/uploads/Customer-Info-Sheet-SuperSaver-Account-1.pdf\"\n",
    "pdf_file = str(p(data_folder, pdf_url.split(\"/\")[-1]))\n",
    "\n",
    "urllib.request.urlretrieve(pdf_url, pdf_file)"
   ]
  },
  {
   "cell_type": "code",
   "execution_count": 4,
   "id": "dbdcf071-fcae-42b6-a494-0bfa1d7bf7af",
   "metadata": {
    "tags": []
   },
   "outputs": [],
   "source": [
    "pdf_loader = PyPDFLoader(pdf_file)\n",
    "pages = pdf_loader.load_and_split()"
   ]
  },
  {
   "cell_type": "code",
   "execution_count": 5,
   "id": "4684d0a1-8dd5-4e83-bcd7-c7353a2ab2bf",
   "metadata": {
    "tags": []
   },
   "outputs": [
    {
     "data": {
      "text/plain": [
       "'Minimum monthly amount €5\\nMaximum monthly amount €2,500\\nAccess You have instant access to your money.\\nAdditional lodgements No\\nWithdrawal arrangementsYou can withdraw money in any Bank of Ireland branch (you will need to bring \\nphoto ID with you), by 365 online or via phone banking when registered for \\nthese services.\\nInterest rate type Fixed – The interest rate stays the same for the 12 months.\\nInterest paymentInterest is paid at the end of the 12 month fixed rate period. See our Customer \\nDeposits Rate Sheet on bankofireland.com  for current rates.\\nSole or joint accounts Sole and joint accounts permitted.\\nHow to applyYou can open this account online through the Bank of Ireland website via the \\nmobile app or in any Bank of Ireland branch.\\nTo open the account online, visit the savings page on bankofireland.com  and \\ngo to the SuperSaver product page. Click the button “Apply now”.\\nOther important informationTo open an account, you must have a personal current account and be aged \\n16 or over.Customer  \\nInformation Sheet\\nProduct Information\\nAccount details are correct as at June 2023. Information is subject to change. Latest information is available at  bankofireland.com\\nAt Bank of Ireland we offer a broad range of deposit options for our customers.\\nTalk to one of our Savings Advisers today for more information.\\nTerms and Conditions apply, these are available on bankofIreland.com\\nBank of Ireland is regulated by the Central Bank of Ireland.0818 365 254Promised yourself you’d be a better saver? How about being a SuperSaver ? Avail of our best rate on regular \\nsavings with a fixed rate for 12 months, along with a range of extra benefits. Save smart and feel super\\nwith our SuperSaver  account.SuperSaver Account'"
      ]
     },
     "execution_count": 5,
     "metadata": {},
     "output_type": "execute_result"
    }
   ],
   "source": [
    "#document content\n",
    "\n",
    "pages[0].page_content"
   ]
  },
  {
   "cell_type": "code",
   "execution_count": 9,
   "id": "7b42b543-ae0f-456e-9061-9874a5f1d506",
   "metadata": {
    "tags": []
   },
   "outputs": [],
   "source": [
    "len_pages=len(pages)"
   ]
  },
  {
   "cell_type": "code",
   "execution_count": 46,
   "id": "7ad6257a-460a-4858-8888-bedb1745131f",
   "metadata": {
    "tags": []
   },
   "outputs": [
    {
     "name": "stdout",
     "output_type": "stream",
     "text": [
      "The total words in the context:  1733\n"
     ]
    }
   ],
   "source": [
    "context = \" \".join(str(p.page_content) for p in pages[:len_pages])\n",
    "print(\"The total words in the context: \", len(context))"
   ]
  },
  {
   "cell_type": "code",
   "execution_count": 10,
   "id": "e84a0a1e-4266-4193-9c34-7a5d8ce6febb",
   "metadata": {
    "tags": []
   },
   "outputs": [],
   "source": [
    "def generate_answer(question):\n",
    "    \"\"\"\n",
    "    Generates an answer to a given question using context extracted from a set of documents and Vertex AI models.\n",
    "\n",
    "    Parameter:\n",
    "    - question (str): The question for which an answer is sought.\n",
    "\n",
    "    Steps:\n",
    "    1. Initializes Vertex AI models for text generation and embeddings:\n",
    "       - 'text-bison@001' for Large Language Model (LLM) text generation.\n",
    "       - 'textembedding-gecko@001' for embeddings.\n",
    "    2. Concatenates the contents of the first pages of previously loaded documents to form the context.\n",
    "    3. Constructs a prompt template for the question-answering task using the concatenated context.\n",
    "    4. Creates a QA chain using the 'text-bison@001' model with the specified prompt.\n",
    "    5. Generates an answer using the QA chain based on the question and the context.\n",
    "\n",
    "    Returns:\n",
    "    str: The generated answer, or \"answer not available in context\" if the answer cannot be derived from the provided context.\n",
    "\n",
    "    \"\"\"\n",
    "    \n",
    "    vertex_llm_text = VertexAI(model_name=\"text-bison@001\")\n",
    "    vertex_embeddings = VertexAIEmbeddings(model_name=\"textembedding-gecko@001\")\n",
    "    \n",
    "    context = \" \".join(str(p.page_content) for p in pages[:len_pages])\n",
    "    \n",
    "    prompt_template = \"\"\"Answer the question as precise as possible using the provided context. If the answer is\n",
    "                        not contained in the context, say \"answer not available in context\" \\n\\n\n",
    "                        Context: \\n {context}?\\n\n",
    "                        Question: \\n {question} \\n\n",
    "                        Answer:\n",
    "                      \"\"\"\n",
    "\n",
    "    prompt = PromptTemplate(\n",
    "        template=prompt_template, input_variables=[\"context\", \"question\"]\n",
    "    )\n",
    "    stuff_chain = load_qa_chain(vertex_llm_text, chain_type=\"stuff\", prompt=prompt)\n",
    "    stuff_answer = stuff_chain(\n",
    "    {\"input_documents\": pages, \"question\": question}, return_only_outputs=True\n",
    "    )\n",
    "    return stuff_answer[\"output_text\"]"
   ]
  },
  {
   "cell_type": "code",
   "execution_count": 22,
   "id": "b74bdf22-d392-4f65-9922-51da76b5c6cb",
   "metadata": {
    "tags": []
   },
   "outputs": [],
   "source": [
    "question='What is the name of the savings account?'"
   ]
  },
  {
   "cell_type": "code",
   "execution_count": 23,
   "id": "e4c2d73b-f90f-431b-a153-b23937001744",
   "metadata": {
    "tags": []
   },
   "outputs": [
    {
     "data": {
      "text/plain": [
       "'SuperSaver Account'"
      ]
     },
     "execution_count": 23,
     "metadata": {},
     "output_type": "execute_result"
    }
   ],
   "source": [
    "generate_answer(question)"
   ]
  },
  {
   "cell_type": "code",
   "execution_count": 24,
   "id": "9f988c14-4684-45a7-9817-e80d47e258ce",
   "metadata": {
    "tags": []
   },
   "outputs": [],
   "source": [
    "question='Can I lodge 3000 EUR per month?'"
   ]
  },
  {
   "cell_type": "code",
   "execution_count": 25,
   "id": "f8dbed78-277b-451a-a970-96711a4cf634",
   "metadata": {
    "tags": []
   },
   "outputs": [
    {
     "data": {
      "text/plain": [
       "'No, the maximum monthly amount is 2,500 EUR.'"
      ]
     },
     "execution_count": 25,
     "metadata": {},
     "output_type": "execute_result"
    }
   ],
   "source": [
    "generate_answer(question)"
   ]
  },
  {
   "cell_type": "code",
   "execution_count": 26,
   "id": "04d6384d-0baa-4a8e-bc0b-4e2cf549ea80",
   "metadata": {
    "tags": []
   },
   "outputs": [],
   "source": [
    "question='How do I withdraw the money?'"
   ]
  },
  {
   "cell_type": "code",
   "execution_count": 27,
   "id": "a40df6e5-392e-4a52-9d80-a415276a34ca",
   "metadata": {
    "tags": []
   },
   "outputs": [
    {
     "data": {
      "text/plain": [
       "'You can withdraw money in any Bank of Ireland branch (you will need to bring \\nphoto ID with you), by 365 online or via phone banking when registered for \\nthese services.'"
      ]
     },
     "execution_count": 27,
     "metadata": {},
     "output_type": "execute_result"
    }
   ],
   "source": [
    "generate_answer(question)"
   ]
  },
  {
   "cell_type": "code",
   "execution_count": 28,
   "id": "ccc8e863-3c88-48c7-894f-168a334d7be9",
   "metadata": {
    "tags": []
   },
   "outputs": [],
   "source": [
    "question='What if I do not have a photo ID?'"
   ]
  },
  {
   "cell_type": "code",
   "execution_count": 29,
   "id": "d65217f9-345e-438e-92a7-bfd9d712a688",
   "metadata": {
    "tags": []
   },
   "outputs": [
    {
     "data": {
      "text/plain": [
       "'answer not available in context'"
      ]
     },
     "execution_count": 29,
     "metadata": {},
     "output_type": "execute_result"
    }
   ],
   "source": [
    "generate_answer(question)"
   ]
  },
  {
   "cell_type": "code",
   "execution_count": 30,
   "id": "2a83841b-bb04-47fd-8de6-ec2d97b9f9dd",
   "metadata": {
    "tags": []
   },
   "outputs": [],
   "source": [
    "question='Is there a website for this?'"
   ]
  },
  {
   "cell_type": "code",
   "execution_count": 31,
   "id": "f49d3281-b905-40c4-a890-c93eb878b17e",
   "metadata": {
    "tags": []
   },
   "outputs": [
    {
     "data": {
      "text/plain": [
       "'Yes, the website is bankofireland.com'"
      ]
     },
     "execution_count": 31,
     "metadata": {},
     "output_type": "execute_result"
    }
   ],
   "source": [
    "generate_answer(question)"
   ]
  },
  {
   "cell_type": "code",
   "execution_count": 32,
   "id": "dd0371cf-343c-4dbe-86ef-2e2011e0dd81",
   "metadata": {
    "tags": []
   },
   "outputs": [],
   "source": [
    "question='Do I get variable rate?'"
   ]
  },
  {
   "cell_type": "code",
   "execution_count": 33,
   "id": "d469fcc3-1508-4370-b8ff-cb662404fd73",
   "metadata": {
    "tags": []
   },
   "outputs": [
    {
     "data": {
      "text/plain": [
       "'No, the interest rate is fixed for 12 months.'"
      ]
     },
     "execution_count": 33,
     "metadata": {},
     "output_type": "execute_result"
    }
   ],
   "source": [
    "generate_answer(question)"
   ]
  },
  {
   "cell_type": "code",
   "execution_count": 34,
   "id": "3040b907-f1ba-4bbd-be38-79d66f38e00c",
   "metadata": {
    "tags": []
   },
   "outputs": [],
   "source": [
    "question='What if I am not a customer of BOI?'"
   ]
  },
  {
   "cell_type": "code",
   "execution_count": 35,
   "id": "6c626960-7c97-4003-8046-fa161326cbf5",
   "metadata": {
    "tags": []
   },
   "outputs": [
    {
     "data": {
      "text/plain": [
       "'To open an account, you must have a personal current account and be aged \\n16 or over.'"
      ]
     },
     "execution_count": 35,
     "metadata": {},
     "output_type": "execute_result"
    }
   ],
   "source": [
    "generate_answer(question)"
   ]
  },
  {
   "cell_type": "code",
   "execution_count": 36,
   "id": "34e255e6-2e6e-45a3-96db-4be778a9582b",
   "metadata": {
    "tags": []
   },
   "outputs": [],
   "source": [
    "question='I have a negative balance, is this for me?'"
   ]
  },
  {
   "cell_type": "code",
   "execution_count": 37,
   "id": "98153292-1b66-4cb2-84ca-1b00ffdf9d0f",
   "metadata": {
    "tags": []
   },
   "outputs": [
    {
     "data": {
      "text/plain": [
       "'No, you must have a positive balance to open this account.'"
      ]
     },
     "execution_count": 37,
     "metadata": {},
     "output_type": "execute_result"
    }
   ],
   "source": [
    "generate_answer(question)"
   ]
  },
  {
   "cell_type": "code",
   "execution_count": 38,
   "id": "a8bcac70-6517-4abe-8c03-8fd43ef52312",
   "metadata": {
    "tags": []
   },
   "outputs": [],
   "source": [
    "question='What if I want to buy something very expensive?'"
   ]
  },
  {
   "cell_type": "code",
   "execution_count": 39,
   "id": "278def06-3b4c-4014-86c8-429228736dae",
   "metadata": {
    "tags": []
   },
   "outputs": [
    {
     "data": {
      "text/plain": [
       "'You can withdraw money in any Bank of Ireland branch (you will need to bring \\nphoto ID with you), by 365 online or via phone banking when registered for \\nthese services.'"
      ]
     },
     "execution_count": 39,
     "metadata": {},
     "output_type": "execute_result"
    }
   ],
   "source": [
    "generate_answer(question)"
   ]
  },
  {
   "cell_type": "code",
   "execution_count": 40,
   "id": "fa05f7f2-67f4-4c91-af61-b60176a3a9b8",
   "metadata": {
    "tags": []
   },
   "outputs": [],
   "source": [
    "question='I am not convinced. Can you sell it to me?'"
   ]
  },
  {
   "cell_type": "code",
   "execution_count": 41,
   "id": "25622535-fead-40b6-ae67-ac3a590d0d45",
   "metadata": {
    "tags": []
   },
   "outputs": [
    {
     "data": {
      "text/plain": [
       "'This account offers a fixed rate for 12 months, along with a range of extra benefits.'"
      ]
     },
     "execution_count": 41,
     "metadata": {},
     "output_type": "execute_result"
    }
   ],
   "source": [
    "generate_answer(question)"
   ]
  },
  {
   "cell_type": "code",
   "execution_count": 42,
   "id": "57ac992d-a0d2-423b-9146-382b35b9ffec",
   "metadata": {
    "tags": []
   },
   "outputs": [],
   "source": [
    "question='I am broke, is there a chance for me?'"
   ]
  },
  {
   "cell_type": "code",
   "execution_count": 43,
   "id": "cc07e1e7-a0f4-4eed-8463-a43f1822b294",
   "metadata": {
    "tags": []
   },
   "outputs": [
    {
     "data": {
      "text/plain": [
       "'The minimum monthly amount is €5.'"
      ]
     },
     "execution_count": 43,
     "metadata": {},
     "output_type": "execute_result"
    }
   ],
   "source": [
    "generate_answer(question)"
   ]
  },
  {
   "cell_type": "code",
   "execution_count": 44,
   "id": "22e7228d-91cd-446f-b6ed-35fb1f243c41",
   "metadata": {
    "tags": []
   },
   "outputs": [],
   "source": [
    "question='I am 67. Is it for me?'"
   ]
  },
  {
   "cell_type": "code",
   "execution_count": 45,
   "id": "ec583619-9d41-4d39-a6a7-a746215d572b",
   "metadata": {
    "tags": []
   },
   "outputs": [
    {
     "data": {
      "text/plain": [
       "'No, you must be aged 16 or over.'"
      ]
     },
     "execution_count": 45,
     "metadata": {},
     "output_type": "execute_result"
    }
   ],
   "source": [
    "generate_answer(question) #knows where to look but did not get it right :)"
   ]
  },
  {
   "cell_type": "code",
   "execution_count": 46,
   "id": "85c92b7c-dac4-4f3e-ab4d-8e1c070fe35f",
   "metadata": {
    "tags": []
   },
   "outputs": [],
   "source": [
    "question='Is there something in this offer that will amaze me?'"
   ]
  },
  {
   "cell_type": "code",
   "execution_count": 47,
   "id": "4c50f0f6-7146-424e-b723-39f3cf4604e2",
   "metadata": {
    "tags": []
   },
   "outputs": [
    {
     "data": {
      "text/plain": [
       "'No, there is nothing in this offer that will amaze you.'"
      ]
     },
     "execution_count": 47,
     "metadata": {},
     "output_type": "execute_result"
    }
   ],
   "source": [
    "generate_answer(question)#????"
   ]
  },
  {
   "cell_type": "code",
   "execution_count": 48,
   "id": "d4c0a34f-be08-4393-b876-72fa52e44fb0",
   "metadata": {
    "tags": []
   },
   "outputs": [],
   "source": [
    "question='Is there something in this offer that I will find good for me though?'"
   ]
  },
  {
   "cell_type": "code",
   "execution_count": 49,
   "id": "3da11088-6597-4012-b790-9b601494c869",
   "metadata": {
    "tags": []
   },
   "outputs": [
    {
     "data": {
      "text/plain": [
       "'You have instant access to your money.'"
      ]
     },
     "execution_count": 49,
     "metadata": {},
     "output_type": "execute_result"
    }
   ],
   "source": [
    "generate_answer(question)"
   ]
  },
  {
   "cell_type": "code",
   "execution_count": 50,
   "id": "6bfd3bb6-73e5-4c70-b858-cc87bbd46fc4",
   "metadata": {
    "tags": []
   },
   "outputs": [],
   "source": [
    "question='What is the interest rate?'"
   ]
  },
  {
   "cell_type": "code",
   "execution_count": 51,
   "id": "08be6a08-eed9-4304-a0dd-dfb8f7534a90",
   "metadata": {
    "tags": []
   },
   "outputs": [
    {
     "data": {
      "text/plain": [
       "'See our Customer Deposits Rate Sheet on bankofireland.com for current rates.'"
      ]
     },
     "execution_count": 51,
     "metadata": {},
     "output_type": "execute_result"
    }
   ],
   "source": [
    "generate_answer(question)"
   ]
  },
  {
   "cell_type": "code",
   "execution_count": 52,
   "id": "abd92438-61c1-48fe-b3e7-84bd15c9ab14",
   "metadata": {
    "tags": []
   },
   "outputs": [],
   "source": [
    "question='How quickly can I save 10000?'"
   ]
  },
  {
   "cell_type": "code",
   "execution_count": 53,
   "id": "8408fff0-f4f9-444b-99e3-8e92f86c0a4d",
   "metadata": {
    "tags": []
   },
   "outputs": [
    {
     "data": {
      "text/plain": [
       "'answer not available in context'"
      ]
     },
     "execution_count": 53,
     "metadata": {},
     "output_type": "execute_result"
    }
   ],
   "source": [
    "generate_answer(question)"
   ]
  },
  {
   "cell_type": "code",
   "execution_count": 54,
   "id": "d22fbd60-705e-49ba-8ddc-edb2683cb3fc",
   "metadata": {
    "tags": []
   },
   "outputs": [],
   "source": [
    "question='What about my husband?'"
   ]
  },
  {
   "cell_type": "code",
   "execution_count": 55,
   "id": "f2990dd7-9fa0-4b4f-a71e-4b4061514887",
   "metadata": {
    "tags": []
   },
   "outputs": [
    {
     "data": {
      "text/plain": [
       "'Yes, you can open a joint account with your husband.'"
      ]
     },
     "execution_count": 55,
     "metadata": {},
     "output_type": "execute_result"
    }
   ],
   "source": [
    "generate_answer(question)"
   ]
  },
  {
   "cell_type": "code",
   "execution_count": 56,
   "id": "b6eb2545-f7d5-4101-818b-15c9444b15a3",
   "metadata": {
    "tags": []
   },
   "outputs": [],
   "source": [
    "question='What about my children?'"
   ]
  },
  {
   "cell_type": "code",
   "execution_count": 57,
   "id": "fc96846b-53af-4ff6-85b1-2018771bda4b",
   "metadata": {
    "tags": []
   },
   "outputs": [
    {
     "data": {
      "text/plain": [
       "'Sole and joint accounts permitted.'"
      ]
     },
     "execution_count": 57,
     "metadata": {},
     "output_type": "execute_result"
    }
   ],
   "source": [
    "generate_answer(question)"
   ]
  },
  {
   "cell_type": "code",
   "execution_count": 58,
   "id": "4521afd5-9dc5-4f22-ae52-cf61302848d9",
   "metadata": {},
   "outputs": [],
   "source": [
    "question='W is te intrs pai?' #question When is the interest paid? - spelling altered on purpose"
   ]
  },
  {
   "cell_type": "code",
   "execution_count": 59,
   "id": "617e874d-af00-4a16-9f3f-feaf9b10cd05",
   "metadata": {
    "tags": []
   },
   "outputs": [
    {
     "data": {
      "text/plain": [
       "'Interest is paid at the end of the 12 month fixed rate period.'"
      ]
     },
     "execution_count": 59,
     "metadata": {},
     "output_type": "execute_result"
    }
   ],
   "source": [
    "generate_answer(question)"
   ]
  },
  {
   "cell_type": "code",
   "execution_count": 60,
   "id": "3e7a5f1f-a0da-469b-9f17-fc6b7e833fad",
   "metadata": {
    "tags": []
   },
   "outputs": [],
   "source": [
    "question='Shall I get it?'"
   ]
  },
  {
   "cell_type": "code",
   "execution_count": 61,
   "id": "4ddc35d8-64df-4703-bdde-554c4636e055",
   "metadata": {
    "tags": []
   },
   "outputs": [
    {
     "data": {
      "text/plain": [
       "'The SuperSaver account is a good option for those who want to save regularly and get a fixed rate of interest for 12 months. The minimum monthly amount is €5 and the maximum monthly amount is €2,500. You can withdraw money in any Bank of Ireland branch (you will need to bring photo ID with you), by 365 online or via phone banking when registered for these services. Interest is paid at the end of the 12 month fixed rate period.'"
      ]
     },
     "execution_count": 61,
     "metadata": {},
     "output_type": "execute_result"
    }
   ],
   "source": [
    "generate_answer(question) # model made a nice summary by re-formulating what is written in pdf"
   ]
  },
  {
   "cell_type": "code",
   "execution_count": null,
   "id": "3c0e8ec0-ad10-4b8d-8898-392154e34bc0",
   "metadata": {},
   "outputs": [],
   "source": []
  }
 ],
 "metadata": {
  "environment": {
   "kernel": "conda-root-py",
   "name": "workbench-notebooks.m113",
   "type": "gcloud",
   "uri": "gcr.io/deeplearning-platform-release/workbench-notebooks:m113"
  },
  "kernelspec": {
   "display_name": "Python 3 (ipykernel) (Local)",
   "language": "python",
   "name": "conda-root-py"
  },
  "language_info": {
   "codemirror_mode": {
    "name": "ipython",
    "version": 3
   },
   "file_extension": ".py",
   "mimetype": "text/x-python",
   "name": "python",
   "nbconvert_exporter": "python",
   "pygments_lexer": "ipython3",
   "version": "3.10.13"
  }
 },
 "nbformat": 4,
 "nbformat_minor": 5
}
